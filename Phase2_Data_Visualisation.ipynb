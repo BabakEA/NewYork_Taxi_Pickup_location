{
 "cells": [
  {
   "cell_type": "code",
   "execution_count": 1,
   "metadata": {},
   "outputs": [
    {
     "name": "stderr",
     "output_type": "stream",
     "text": [
      "C:\\ProgramData\\Anaconda3\\lib\\site-packages\\numpy\\_distributor_init.py:32: UserWarning: loaded more than 1 DLL from .libs:\n",
      "C:\\ProgramData\\Anaconda3\\lib\\site-packages\\numpy\\.libs\\libopenblas.TXA6YQSD3GCQQC22GEQ54J2UDCXDXHWN.gfortran-win_amd64.dll\n",
      "C:\\ProgramData\\Anaconda3\\lib\\site-packages\\numpy\\.libs\\libopenblas.WCDJNK7YVMPZQ2ME2ZZHJJRJ3JIKNDB7.gfortran-win_amd64.dll\n",
      "  stacklevel=1)\n"
     ]
    }
   ],
   "source": [
    "from Util import GREEN_TAXI"
   ]
  },
  {
   "cell_type": "markdown",
   "metadata": {},
   "source": [
    "Loading Data:"
   ]
  },
  {
   "cell_type": "code",
   "execution_count": 2,
   "metadata": {},
   "outputs": [],
   "source": [
    "df=GREEN_TAXI.pd.read_csv(\"./data/updated_RAW_TAXI.csv\")"
   ]
  },
  {
   "cell_type": "code",
   "execution_count": 3,
   "metadata": {},
   "outputs": [],
   "source": [
    "df[\"AREA\"]=df.apply(lambda x: GREEN_TAXI.ZIP_CLEANER(x.PICKUP_ZIP) ,axis=1)\n",
    "df=df.dropna()\n"
   ]
  },
  {
   "cell_type": "markdown",
   "metadata": {},
   "source": [
    "# Data Cleaning \n",
    "Remove not related postal codes "
   ]
  },
  {
   "cell_type": "code",
   "execution_count": 4,
   "metadata": {},
   "outputs": [
    {
     "name": "stdout",
     "output_type": "stream",
     "text": [
      "Before cleansing shape : (1505341, 16)\n",
      "----- CLEANSING -----\n",
      "(1505341, 16)\n",
      "(1505341, 16)\n",
      "(1505341, 16)\n",
      "(1505341, 16)\n",
      "(1505341, 16)\n",
      "----- CLEANSING -----\n",
      "After cleansing shape : (1505341, 16)\n"
     ]
    }
   ],
   "source": [
    "df=GREEN_TAXI.data_cleansing(df)\n"
   ]
  },
  {
   "cell_type": "code",
   "execution_count": 5,
   "metadata": {},
   "outputs": [
    {
     "data": {
      "text/html": [
       "<div>\n",
       "<style scoped>\n",
       "    .dataframe tbody tr th:only-of-type {\n",
       "        vertical-align: middle;\n",
       "    }\n",
       "\n",
       "    .dataframe tbody tr th {\n",
       "        vertical-align: top;\n",
       "    }\n",
       "\n",
       "    .dataframe thead th {\n",
       "        text-align: right;\n",
       "    }\n",
       "</style>\n",
       "<table border=\"1\" class=\"dataframe\">\n",
       "  <thead>\n",
       "    <tr style=\"text-align: right;\">\n",
       "      <th></th>\n",
       "      <th>AREA</th>\n",
       "      <th>PICKUP_ZIP</th>\n",
       "      <th>P_Day</th>\n",
       "      <th>P_WEEK_Day</th>\n",
       "      <th>P_Hour</th>\n",
       "      <th>flag</th>\n",
       "      <th>Trip_distance</th>\n",
       "    </tr>\n",
       "  </thead>\n",
       "  <tbody>\n",
       "    <tr>\n",
       "      <th>0</th>\n",
       "      <td>Bronx</td>\n",
       "      <td>10451</td>\n",
       "      <td>01</td>\n",
       "      <td>Monday</td>\n",
       "      <td>00</td>\n",
       "      <td>10</td>\n",
       "      <td>42.9371912</td>\n",
       "    </tr>\n",
       "    <tr>\n",
       "      <th>1</th>\n",
       "      <td>Bronx</td>\n",
       "      <td>10451</td>\n",
       "      <td>01</td>\n",
       "      <td>Monday</td>\n",
       "      <td>01</td>\n",
       "      <td>12</td>\n",
       "      <td>56.5683010</td>\n",
       "    </tr>\n",
       "    <tr>\n",
       "      <th>2</th>\n",
       "      <td>Bronx</td>\n",
       "      <td>10451</td>\n",
       "      <td>01</td>\n",
       "      <td>Monday</td>\n",
       "      <td>02</td>\n",
       "      <td>6</td>\n",
       "      <td>15.9807462</td>\n",
       "    </tr>\n",
       "    <tr>\n",
       "      <th>3</th>\n",
       "      <td>Bronx</td>\n",
       "      <td>10451</td>\n",
       "      <td>01</td>\n",
       "      <td>Monday</td>\n",
       "      <td>03</td>\n",
       "      <td>3</td>\n",
       "      <td>7.0006290</td>\n",
       "    </tr>\n",
       "    <tr>\n",
       "      <th>4</th>\n",
       "      <td>Bronx</td>\n",
       "      <td>10451</td>\n",
       "      <td>01</td>\n",
       "      <td>Monday</td>\n",
       "      <td>04</td>\n",
       "      <td>4</td>\n",
       "      <td>24.2044736</td>\n",
       "    </tr>\n",
       "  </tbody>\n",
       "</table>\n",
       "</div>"
      ],
      "text/plain": [
       "    AREA  PICKUP_ZIP P_Day P_WEEK_Day P_Hour  flag  Trip_distance\n",
       "0  Bronx       10451    01     Monday     00    10     42.9371912\n",
       "1  Bronx       10451    01     Monday     01    12     56.5683010\n",
       "2  Bronx       10451    01     Monday     02     6     15.9807462\n",
       "3  Bronx       10451    01     Monday     03     3      7.0006290\n",
       "4  Bronx       10451    01     Monday     04     4     24.2044736"
      ]
     },
     "execution_count": 5,
     "metadata": {},
     "output_type": "execute_result"
    }
   ],
   "source": [
    "df=df[[\"AREA\" ,'Trip_distance', 'PICKUP_ZIP', 'P_Day','P_WEEK_Day', 'P_Hour', 'flag']]\n",
    "df=df.groupby([\"AREA\",\"PICKUP_ZIP\",\"P_Day\",\"P_WEEK_Day\",\"P_Hour\"])['flag',\"Trip_distance\"].sum().reset_index()\n",
    "### convert Mile to KM \n",
    "df[\"Trip_distance\"]=df.apply(lambda x: GREEN_TAXI.mile_km(x.Trip_distance),axis=1)\n",
    "\n",
    "df[\"P_Day\"]=df.apply(lambda x: (str(x.P_Day).zfill(2)),axis=1)\n",
    "df[\"P_Hour\"]=df.apply(lambda x: (str(x.P_Hour).zfill(2)),axis=1)\n",
    "\n",
    "\n",
    "\n",
    "df.head()\n"
   ]
  },
  {
   "cell_type": "code",
   "execution_count": 6,
   "metadata": {},
   "outputs": [
    {
     "data": {
      "text/html": [
       "<div>\n",
       "<style scoped>\n",
       "    .dataframe tbody tr th:only-of-type {\n",
       "        vertical-align: middle;\n",
       "    }\n",
       "\n",
       "    .dataframe tbody tr th {\n",
       "        vertical-align: top;\n",
       "    }\n",
       "\n",
       "    .dataframe thead th {\n",
       "        text-align: right;\n",
       "    }\n",
       "</style>\n",
       "<table border=\"1\" class=\"dataframe\">\n",
       "  <thead>\n",
       "    <tr style=\"text-align: right;\">\n",
       "      <th></th>\n",
       "      <th>AREA</th>\n",
       "      <th>PICKUP_ZIP</th>\n",
       "      <th>P_Day</th>\n",
       "      <th>P_WEEK_Day</th>\n",
       "      <th>P_Hour</th>\n",
       "      <th>flag</th>\n",
       "      <th>Trip_distance</th>\n",
       "    </tr>\n",
       "  </thead>\n",
       "  <tbody>\n",
       "    <tr>\n",
       "      <th>0</th>\n",
       "      <td>Bronx</td>\n",
       "      <td>10451</td>\n",
       "      <td>01</td>\n",
       "      <td>Monday</td>\n",
       "      <td>00</td>\n",
       "      <td>10</td>\n",
       "      <td>42.9371912</td>\n",
       "    </tr>\n",
       "    <tr>\n",
       "      <th>1</th>\n",
       "      <td>Bronx</td>\n",
       "      <td>10451</td>\n",
       "      <td>01</td>\n",
       "      <td>Monday</td>\n",
       "      <td>01</td>\n",
       "      <td>12</td>\n",
       "      <td>56.5683010</td>\n",
       "    </tr>\n",
       "    <tr>\n",
       "      <th>2</th>\n",
       "      <td>Bronx</td>\n",
       "      <td>10451</td>\n",
       "      <td>01</td>\n",
       "      <td>Monday</td>\n",
       "      <td>02</td>\n",
       "      <td>6</td>\n",
       "      <td>15.9807462</td>\n",
       "    </tr>\n",
       "    <tr>\n",
       "      <th>3</th>\n",
       "      <td>Bronx</td>\n",
       "      <td>10451</td>\n",
       "      <td>01</td>\n",
       "      <td>Monday</td>\n",
       "      <td>03</td>\n",
       "      <td>3</td>\n",
       "      <td>7.0006290</td>\n",
       "    </tr>\n",
       "    <tr>\n",
       "      <th>4</th>\n",
       "      <td>Bronx</td>\n",
       "      <td>10451</td>\n",
       "      <td>01</td>\n",
       "      <td>Monday</td>\n",
       "      <td>04</td>\n",
       "      <td>4</td>\n",
       "      <td>24.2044736</td>\n",
       "    </tr>\n",
       "    <tr>\n",
       "      <th>...</th>\n",
       "      <td>...</td>\n",
       "      <td>...</td>\n",
       "      <td>...</td>\n",
       "      <td>...</td>\n",
       "      <td>...</td>\n",
       "      <td>...</td>\n",
       "      <td>...</td>\n",
       "    </tr>\n",
       "    <tr>\n",
       "      <th>60580</th>\n",
       "      <td>Staten</td>\n",
       "      <td>10314</td>\n",
       "      <td>27</td>\n",
       "      <td>Saturday</td>\n",
       "      <td>15</td>\n",
       "      <td>1</td>\n",
       "      <td>49.5998588</td>\n",
       "    </tr>\n",
       "    <tr>\n",
       "      <th>60581</th>\n",
       "      <td>Staten</td>\n",
       "      <td>10314</td>\n",
       "      <td>27</td>\n",
       "      <td>Saturday</td>\n",
       "      <td>16</td>\n",
       "      <td>1</td>\n",
       "      <td>32.1546132</td>\n",
       "    </tr>\n",
       "    <tr>\n",
       "      <th>60582</th>\n",
       "      <td>Staten</td>\n",
       "      <td>10314</td>\n",
       "      <td>28</td>\n",
       "      <td>Sunday</td>\n",
       "      <td>23</td>\n",
       "      <td>1</td>\n",
       "      <td>17.5418060</td>\n",
       "    </tr>\n",
       "    <tr>\n",
       "      <th>60583</th>\n",
       "      <td>Staten</td>\n",
       "      <td>10314</td>\n",
       "      <td>29</td>\n",
       "      <td>Monday</td>\n",
       "      <td>14</td>\n",
       "      <td>1</td>\n",
       "      <td>19.2959866</td>\n",
       "    </tr>\n",
       "    <tr>\n",
       "      <th>60584</th>\n",
       "      <td>Staten</td>\n",
       "      <td>10314</td>\n",
       "      <td>29</td>\n",
       "      <td>Monday</td>\n",
       "      <td>16</td>\n",
       "      <td>1</td>\n",
       "      <td>15.5623178</td>\n",
       "    </tr>\n",
       "  </tbody>\n",
       "</table>\n",
       "<p>60585 rows × 7 columns</p>\n",
       "</div>"
      ],
      "text/plain": [
       "         AREA  PICKUP_ZIP P_Day P_WEEK_Day P_Hour  flag  Trip_distance\n",
       "0       Bronx       10451    01     Monday     00    10     42.9371912\n",
       "1       Bronx       10451    01     Monday     01    12     56.5683010\n",
       "2       Bronx       10451    01     Monday     02     6     15.9807462\n",
       "3       Bronx       10451    01     Monday     03     3      7.0006290\n",
       "4       Bronx       10451    01     Monday     04     4     24.2044736\n",
       "...       ...         ...   ...        ...    ...   ...            ...\n",
       "60580  Staten       10314    27   Saturday     15     1     49.5998588\n",
       "60581  Staten       10314    27   Saturday     16     1     32.1546132\n",
       "60582  Staten       10314    28     Sunday     23     1     17.5418060\n",
       "60583  Staten       10314    29     Monday     14     1     19.2959866\n",
       "60584  Staten       10314    29     Monday     16     1     15.5623178\n",
       "\n",
       "[60585 rows x 7 columns]"
      ]
     },
     "execution_count": 6,
     "metadata": {},
     "output_type": "execute_result"
    }
   ],
   "source": [
    "df"
   ]
  },
  {
   "cell_type": "code",
   "execution_count": 7,
   "metadata": {},
   "outputs": [
    {
     "data": {
      "application/vnd.jupyter.widget-view+json": {
       "model_id": "de2db08c68054be1bc3dbc1706ce07fa",
       "version_major": 2,
       "version_minor": 0
      },
      "text/plain": [
       "interactive(children=(IntSlider(value=15, description='DAY_OF_MONTH', max=29, min=1), Dropdown(description='AR…"
      ]
     },
     "metadata": {},
     "output_type": "display_data"
    },
    {
     "data": {
      "text/plain": [
       "<Util.GREEN_TAXI.Monthly_report at 0x1edb7dec288>"
      ]
     },
     "execution_count": 7,
     "metadata": {},
     "output_type": "execute_result"
    }
   ],
   "source": [
    "GREEN_TAXI.Monthly_report(df)"
   ]
  }
 ],
 "metadata": {
  "kernelspec": {
   "display_name": "Python 3",
   "language": "python",
   "name": "python3"
  },
  "language_info": {
   "codemirror_mode": {
    "name": "ipython",
    "version": 3
   },
   "file_extension": ".py",
   "mimetype": "text/x-python",
   "name": "python",
   "nbconvert_exporter": "python",
   "pygments_lexer": "ipython3",
   "version": "3.7.6"
  }
 },
 "nbformat": 4,
 "nbformat_minor": 4
}
